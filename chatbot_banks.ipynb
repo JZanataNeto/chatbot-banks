{
  "nbformat": 4,
  "nbformat_minor": 0,
  "metadata": {
    "colab": {
      "provenance": [],
      "authorship_tag": "ABX9TyNwl7w1gvyUW97KHA0YdHc1",
      "include_colab_link": true
    },
    "kernelspec": {
      "name": "python3",
      "display_name": "Python 3"
    },
    "language_info": {
      "name": "python"
    }
  },
  "cells": [
    {
      "cell_type": "markdown",
      "metadata": {
        "id": "view-in-github",
        "colab_type": "text"
      },
      "source": [
        "<a href=\"https://colab.research.google.com/github/JZanataNeto/chatbot-banks/blob/main/chatbot_banks.ipynb\" target=\"_parent\"><img src=\"https://colab.research.google.com/assets/colab-badge.svg\" alt=\"Open In Colab\"/></a>"
      ]
    },
    {
      "cell_type": "code",
      "execution_count": 1,
      "metadata": {
        "id": "LUXRbeH_uayt"
      },
      "outputs": [],
      "source": [
        "!pip -q install google-genai"
      ]
    },
    {
      "cell_type": "code",
      "source": [
        "# Configura a API Key do Google Gemini\n",
        "\n",
        "import os\n",
        "from google.colab import userdata\n",
        "\n",
        "os.environ[\"GOOGLE_API_KEY\"] = userdata.get('GOOGLE_API_KEY')"
      ],
      "metadata": {
        "id": "XKAdlYlSugtn"
      },
      "execution_count": 3,
      "outputs": []
    },
    {
      "cell_type": "code",
      "source": [
        "# Configura o cliente da SDK do Gemini\n",
        "\n",
        "from google import genai\n",
        "\n",
        "client = genai.Client()\n",
        "\n",
        "MODEL_ID = \"gemini-2.0-flash\""
      ],
      "metadata": {
        "id": "a4xie28tulcm"
      },
      "execution_count": 4,
      "outputs": []
    },
    {
      "cell_type": "code",
      "source": [
        "%pip -q install google-adk"
      ],
      "metadata": {
        "colab": {
          "base_uri": "https://localhost:8080/"
        },
        "id": "_i-N9Xm0upoe",
        "outputId": "16d4de40-270f-4880-efde-168d66cc8f3d"
      },
      "execution_count": 5,
      "outputs": [
        {
          "output_type": "stream",
          "name": "stdout",
          "text": [
            "\u001b[?25l   \u001b[90m━━━━━━━━━━━━━━━━━━━━━━━━━━━━━━━━━━━━━━━━\u001b[0m \u001b[32m0.0/1.2 MB\u001b[0m \u001b[31m?\u001b[0m eta \u001b[36m-:--:--\u001b[0m\r\u001b[2K   \u001b[91m━━━━━━━━━━━━━\u001b[0m\u001b[90m╺\u001b[0m\u001b[90m━━━━━━━━━━━━━━━━━━━━━━━━━━\u001b[0m \u001b[32m0.4/1.2 MB\u001b[0m \u001b[31m11.8 MB/s\u001b[0m eta \u001b[36m0:00:01\u001b[0m\r\u001b[2K   \u001b[91m━━━━━━━━━━━━━━━━━━━━━━━━━━━━━━━━━━━━━━━\u001b[0m\u001b[91m╸\u001b[0m \u001b[32m1.2/1.2 MB\u001b[0m \u001b[31m20.9 MB/s\u001b[0m eta \u001b[36m0:00:01\u001b[0m\r\u001b[2K   \u001b[90m━━━━━━━━━━━━━━━━━━━━━━━━━━━━━━━━━━━━━━━━\u001b[0m \u001b[32m1.2/1.2 MB\u001b[0m \u001b[31m16.4 MB/s\u001b[0m eta \u001b[36m0:00:00\u001b[0m\n",
            "\u001b[?25h\u001b[?25l   \u001b[90m━━━━━━━━━━━━━━━━━━━━━━━━━━━━━━━━━━━━━━━━\u001b[0m \u001b[32m0.0/232.1 kB\u001b[0m \u001b[31m?\u001b[0m eta \u001b[36m-:--:--\u001b[0m\r\u001b[2K   \u001b[90m━━━━━━━━━━━━━━━━━━━━━━━━━━━━━━━━━━━━━━━━\u001b[0m \u001b[32m232.1/232.1 kB\u001b[0m \u001b[31m16.7 MB/s\u001b[0m eta \u001b[36m0:00:00\u001b[0m\n",
            "\u001b[?25h\u001b[?25l   \u001b[90m━━━━━━━━━━━━━━━━━━━━━━━━━━━━━━━━━━━━━━━━\u001b[0m \u001b[32m0.0/95.2 kB\u001b[0m \u001b[31m?\u001b[0m eta \u001b[36m-:--:--\u001b[0m\r\u001b[2K   \u001b[90m━━━━━━━━━━━━━━━━━━━━━━━━━━━━━━━━━━━━━━━━\u001b[0m \u001b[32m95.2/95.2 kB\u001b[0m \u001b[31m8.6 MB/s\u001b[0m eta \u001b[36m0:00:00\u001b[0m\n",
            "\u001b[?25h\u001b[?25l   \u001b[90m━━━━━━━━━━━━━━━━━━━━━━━━━━━━━━━━━━━━━━━━\u001b[0m \u001b[32m0.0/217.1 kB\u001b[0m \u001b[31m?\u001b[0m eta \u001b[36m-:--:--\u001b[0m\r\u001b[2K   \u001b[90m━━━━━━━━━━━━━━━━━━━━━━━━━━━━━━━━━━━━━━━━\u001b[0m \u001b[32m217.1/217.1 kB\u001b[0m \u001b[31m17.6 MB/s\u001b[0m eta \u001b[36m0:00:00\u001b[0m\n",
            "\u001b[?25h\u001b[?25l   \u001b[90m━━━━━━━━━━━━━━━━━━━━━━━━━━━━━━━━━━━━━━━━\u001b[0m \u001b[32m0.0/334.1 kB\u001b[0m \u001b[31m?\u001b[0m eta \u001b[36m-:--:--\u001b[0m\r\u001b[2K   \u001b[90m━━━━━━━━━━━━━━━━━━━━━━━━━━━━━━━━━━━━━━━━\u001b[0m \u001b[32m334.1/334.1 kB\u001b[0m \u001b[31m22.9 MB/s\u001b[0m eta \u001b[36m0:00:00\u001b[0m\n",
            "\u001b[?25h\u001b[?25l   \u001b[90m━━━━━━━━━━━━━━━━━━━━━━━━━━━━━━━━━━━━━━━━\u001b[0m \u001b[32m0.0/125.1 kB\u001b[0m \u001b[31m?\u001b[0m eta \u001b[36m-:--:--\u001b[0m\r\u001b[2K   \u001b[90m━━━━━━━━━━━━━━━━━━━━━━━━━━━━━━━━━━━━━━━━\u001b[0m \u001b[32m125.1/125.1 kB\u001b[0m \u001b[31m9.7 MB/s\u001b[0m eta \u001b[36m0:00:00\u001b[0m\n",
            "\u001b[2K   \u001b[90m━━━━━━━━━━━━━━━━━━━━━━━━━━━━━━━━━━━━━━━━\u001b[0m \u001b[32m65.8/65.8 kB\u001b[0m \u001b[31m5.0 MB/s\u001b[0m eta \u001b[36m0:00:00\u001b[0m\n",
            "\u001b[2K   \u001b[90m━━━━━━━━━━━━━━━━━━━━━━━━━━━━━━━━━━━━━━━━\u001b[0m \u001b[32m119.0/119.0 kB\u001b[0m \u001b[31m8.9 MB/s\u001b[0m eta \u001b[36m0:00:00\u001b[0m\n",
            "\u001b[2K   \u001b[90m━━━━━━━━━━━━━━━━━━━━━━━━━━━━━━━━━━━━━━━━\u001b[0m \u001b[32m194.9/194.9 kB\u001b[0m \u001b[31m15.0 MB/s\u001b[0m eta \u001b[36m0:00:00\u001b[0m\n",
            "\u001b[2K   \u001b[90m━━━━━━━━━━━━━━━━━━━━━━━━━━━━━━━━━━━━━━━━\u001b[0m \u001b[32m62.5/62.5 kB\u001b[0m \u001b[31m5.7 MB/s\u001b[0m eta \u001b[36m0:00:00\u001b[0m\n",
            "\u001b[2K   \u001b[90m━━━━━━━━━━━━━━━━━━━━━━━━━━━━━━━━━━━━━━━━\u001b[0m \u001b[32m103.3/103.3 kB\u001b[0m \u001b[31m7.9 MB/s\u001b[0m eta \u001b[36m0:00:00\u001b[0m\n",
            "\u001b[2K   \u001b[90m━━━━━━━━━━━━━━━━━━━━━━━━━━━━━━━━━━━━━━━━\u001b[0m \u001b[32m44.4/44.4 kB\u001b[0m \u001b[31m3.2 MB/s\u001b[0m eta \u001b[36m0:00:00\u001b[0m\n",
            "\u001b[2K   \u001b[90m━━━━━━━━━━━━━━━━━━━━━━━━━━━━━━━━━━━━━━━━\u001b[0m \u001b[32m72.0/72.0 kB\u001b[0m \u001b[31m5.4 MB/s\u001b[0m eta \u001b[36m0:00:00\u001b[0m\n",
            "\u001b[?25h"
          ]
        }
      ]
    },
    {
      "cell_type": "code",
      "source": [
        "from google.adk.agents import Agent\n",
        "from google.adk.runners import Runner\n",
        "from google.adk.sessions import InMemorySessionService\n",
        "from google.adk.tools import google_search\n",
        "from google.genai import types  # Para criar conteúdos (Content e Part)\n",
        "from datetime import date\n",
        "import textwrap # Para formatar melhor a saída de texto\n",
        "from IPython.display import display, Markdown # Para exibir texto formatado no Colab\n",
        "import requests # Para fazer requisições HTTP\n",
        "import warnings\n",
        "\n",
        "warnings.filterwarnings(\"ignore\")"
      ],
      "metadata": {
        "id": "9HoJBpZeuuL-"
      },
      "execution_count": 6,
      "outputs": []
    },
    {
      "cell_type": "code",
      "source": [
        "# Função auxiliar que envia uma mensagem para um agente via Runner e retorna a resposta final\n",
        "def call_agent(agent: Agent, message_text: str) -> str:\n",
        "    # Cria um serviço de sessão em memória\n",
        "    session_service = InMemorySessionService()\n",
        "    # Cria uma nova sessão (você pode personalizar os IDs conforme necessário)\n",
        "    session = session_service.create_session(app_name=agent.name, user_id=\"user1\", session_id=\"session1\")\n",
        "    # Cria um Runner para o agente\n",
        "    runner = Runner(agent=agent, app_name=agent.name, session_service=session_service)\n",
        "    # Cria o conteúdo da mensagem de entrada\n",
        "    content = types.Content(role=\"user\", parts=[types.Part(text=message_text)])\n",
        "\n",
        "    final_response = \"\"\n",
        "    # Itera assincronamente pelos eventos retornados durante a execução do agente\n",
        "    for event in runner.run(user_id=\"user1\", session_id=\"session1\", new_message=content):\n",
        "        if event.is_final_response():\n",
        "          for part in event.content.parts:\n",
        "            if part.text is not None:\n",
        "              final_response += part.text\n",
        "              final_response += \"\\n\"\n",
        "    return final_response"
      ],
      "metadata": {
        "id": "JVeQShkuuzG2"
      },
      "execution_count": 7,
      "outputs": []
    },
    {
      "cell_type": "code",
      "source": [
        "# Função auxiliar para exibir texto formatado em Markdown no Colab\n",
        "def to_markdown(text):\n",
        "  text = text.replace('•', '  *')\n",
        "  return Markdown(textwrap.indent(text, '> ', predicate=lambda _: True))"
      ],
      "metadata": {
        "id": "ZKt-Pj6iu3gO"
      },
      "execution_count": 8,
      "outputs": []
    },
    {
      "cell_type": "code",
      "source": [
        "################################################\n",
        "# --- Agente 1: Planejador de marketing --- #\n",
        "################################################\n",
        "def agente_planejador(topico):\n",
        "    planejador = Agent(\n",
        "        name=\"agente_planejador\",\n",
        "        model=\"gemini-2.0-flash\",\n",
        "        instruction=\"\"\"\n",
        "        Você é um planejador de marketing, especialista em produtos bancários. Com base nas respostas do cliente, você deverá:\n",
        "        1. usar a ferramenta de busca google_search para oferecer os produtos bancários adequados ao cliente;\n",
        "        2. tomar como exempo as seguintes dicas:\n",
        "        - Se  resp1 for sim, ofertar um financiamento imobiliário;\n",
        "        - Se  resp1 for não, ofertar seguro residencial;\n",
        "        - Se  resp2 for sim, ofertar seguro de veículos;\n",
        "        - Se  resp2 for não, ofertar consórcio de veículos;\n",
        "        - Se  resp3 for sim, ofertar seguro de vida;\n",
        "        - Se  resp4 for sim, ofertar seguro de vida;\n",
        "        - Se  resp5 for não, ofertar plano odontológico;\n",
        "        - Se  resp6 for sim, ofertar portabilidade de crédito;\n",
        "        - Se  resp6 for não, ofertar empréstimos;\n",
        "        - Se  resp7 for sim, ofertar inventimentos mais rentáveis;\n",
        "        - Se  resp7 for não, ofertar investimentos;\n",
        "        - Se  resp8 for sim, ofertar cartões de crédito com mais vantagens;\n",
        "        - Se  resp8 for não, ofertar cartões de crédito;\n",
        "        - Se  resp9 for sim, ofertar portabilidade de plano de previdência;\n",
        "        - Se  resp9 for não, ofertar plano de previdência;\n",
        "        - Se  resp10 for sim, ofertar planos de capitalização;\n",
        "        - Se  resp11 for sim, ofertar câmbio;\n",
        "        - Se  resp12 for sim, ofertar câmbio;\n",
        "        - Se  resp13 for sim, ofertar travels cards.\n",
        "\n",
        "        \"\"\",\n",
        "        description=\"Agente que planeja marketing\",\n",
        "        tools=[google_search]\n",
        "    )\n",
        "\n",
        "    entrada_do_agente_planejador = f\"Tópico:{topico}\"\n",
        "    # Executa o agente\n",
        "    plano_de_marketing = call_agent(planejador, entrada_do_agente_planejador)\n",
        "    return plano_de_marketing"
      ],
      "metadata": {
        "id": "8X9Zh8aCu7G-"
      },
      "execution_count": 9,
      "outputs": []
    },
    {
      "cell_type": "code",
      "source": [
        "######################################\n",
        "# --- Agente 2: Redator dos Cards --- #\n",
        "######################################\n",
        "def agente_redator(topico, plano_de_marketing):\n",
        "    redator = Agent(\n",
        "        name=\"agente_redator\",\n",
        "        model=\"gemini-2.0-flash\",\n",
        "        instruction=\"\"\"\n",
        "            Você é um Redator Criativo especializado em criar cards para produtos bancários.\n",
        "            Você escreve cards para auxiliar o atendente bancário a conhecer os pontos mais importantes de cada produto selecionado.\n",
        "            Os cards devem fornecer informações sobre planos de pagamento, benefícios e condições especiais.\n",
        "            O card deve acrescentar informações de como adquirir o produto bancário pelo app do banco.\n",
        "            O card deve ser informativo, com linguagem simples e de fácil leitura.\n",
        "            \"\"\",\n",
        "        description=\"Agente redator de cards\",\n",
        "        tools=[google_search]\n",
        "    )\n",
        "    entrada_do_agente_redator = f\"Tópico: {topico}\\nPlano de marketing: {plano_de_marketing}\"\n",
        "    # Executa o agente\n",
        "    cards = call_agent(redator, entrada_do_agente_redator)\n",
        "    return cards"
      ],
      "metadata": {
        "id": "I2Fp0cVNvCeW"
      },
      "execution_count": 10,
      "outputs": []
    },
    {
      "cell_type": "code",
      "source": [
        "##########################################\n",
        "# --- Agente 3: Marketing Manager --- #\n",
        "##########################################\n",
        "def agente_marketing(topico, cards):\n",
        "    manager = Agent(\n",
        "        name=\"agente_marketing\",\n",
        "        model=\"gemini-2.0-flash\",\n",
        "        instruction=\"\"\"\n",
        "            Você é um profissional de marketing, especializado em vendas de produtos bancários.\n",
        "            Para alcançar um público maior, utilize uma linguagem mais informal.\n",
        "            Para cada produto selecionado, crie argumentos de vendas que mostrem as vantagens e benefícios do produto.\n",
        "            Os argumentos serão frases motivacionais a serem utilizadas pelos atendentes bancários de modo a convencer o cliente a contratar o produto.\n",
        "            Os argumentos poderão ser indiretos ou diretos. Por exemplo: realize seus sonhos juntando dinheiro todo mês(indireto); com capitalização, você concorre a prêmios todo mês(direto).\n",
        "            \"\"\",\n",
        "        description=\"Agente gerenciador de marketing.\",\n",
        "        tools=[google_search]\n",
        "    )\n",
        "    entrada_do_agente_revisor = f\"Tópico: {topico}\\nCards: {cards}\"\n",
        "    # Executa o agente\n",
        "    argumentos = call_agent(manager, entrada_do_agente_revisor)\n",
        "    return argumentos"
      ],
      "metadata": {
        "id": "UhtP3BMqvKuW"
      },
      "execution_count": 11,
      "outputs": []
    },
    {
      "cell_type": "code",
      "source": [
        "print(\"🚀 Iniciando o assitente de negócios com 3 Agentes 🚀\")\n",
        "\n",
        "# --- Obter o Tópico do atendente bancário ---\n",
        "resp1 = input(\"O cliente possui Casa própria?\")\n",
        "resp2 = input(\"O cliente possui carro próprio?\")\n",
        "resp3 = input(\"O cliente possui esposa?\")\n",
        "resp4 = input(\"O cliente possui filhos?\")\n",
        "resp5 = input(\"o cliente possui plano odontológico?\")\n",
        "resp6 = input(\"O cliente possui empréstimos bancários em outro banco?\")\n",
        "resp7 = input(\"O cliente possui investimentos em outros bancos?\")\n",
        "resp8 = input(\"O cliente possui cartão de crédito em outros bancos?\")\n",
        "resp9 = input(\"O cliente possui um plano de previdência privada em outro banco?\")\n",
        "resp10 = input(\"O cliente gosta de fazer apostas em loterias?\")\n",
        "resp11 = input(\"O cliente possui parentes que residem no estrangeiro?\")\n",
        "resp12 = input(\"O cliente faz compras internacionais?\")\n",
        "resp13 = input(\"O cliente usa cartão de crédito em viagens internacionais?\")\n",
        "\n",
        "# Constrói a string 'topico' a partir das respostas do usuário\n",
        "topico = f\"\"\"\n",
        "Respostas do cliente:\n",
        "Casa própria: {resp1}\n",
        "Carro próprio: {resp2}\n",
        "Esposa: {resp3}\n",
        "Filhos: {resp4}\n",
        "Plano odontológico: {resp5}\n",
        "Empréstimos em outro banco: {resp6}\n",
        "Investimentos em outros bancos: {resp7}\n",
        "Cartão de crédito em outros bancos: {resp8}\n",
        "Plano de previdência privada em outro banco: {resp9}\n",
        "Gosta de apostas em loterias: {resp10}\n",
        "Parentes no estrangeiro: {resp11}\n",
        "Compras internacionais: {resp12}\n",
        "Usa cartão em viagens internacionais: {resp13}\n",
        "\"\"\"\n",
        "\n",
        "plano_de_marketing = agente_planejador(topico)\n",
        "print(\"\\n---Resultado do Agente 1---\\n\")\n",
        "display(to_markdown(plano_de_marketing))\n",
        "print(\"-----------------------------------------------------\")\n",
        "\n",
        "cards = agente_redator(topico, plano_de_marketing)\n",
        "print(\"\\n---Resultado do Agente 2---\\n\")\n",
        "display(to_markdown(cards))\n",
        "print(\"-----------------------------------------------------\")\n",
        "\n",
        "argumentos = agente_marketing(topico, cards)\n",
        "print(\"\\n---Resultado do Agente 3---\\n\")\n",
        "display(to_markdown(argumentos))\n",
        "print(\"-----------------------------------------------------\")"
      ],
      "metadata": {
        "colab": {
          "base_uri": "https://localhost:8080/",
          "height": 1000
        },
        "id": "X-I4PIyuvOqW",
        "outputId": "1153ba70-ab55-436f-8bce-90e8f3e25d63"
      },
      "execution_count": 12,
      "outputs": [
        {
          "output_type": "stream",
          "name": "stdout",
          "text": [
            "🚀 Iniciando o assitente de negócios com 3 Agentes 🚀\n",
            "O cliente possui Casa própria?sim\n",
            "O cliente possui carro próprio?não\n",
            "O cliente possui esposa?sim\n",
            "O cliente possui filhos?sim\n",
            "o cliente possui plano odontológico?não\n",
            "O cliente possui empréstimos bancários em outro banco?sim\n",
            "O cliente possui investimentos em outros bancos?sim\n",
            "O cliente possui cartão de crédito em outros bancos?sim\n",
            "O cliente possui um plano de previdência privada em outro banco?sim\n",
            "O cliente gosta de fazer apostas em loterias?sim\n",
            "O cliente possui parentes que residem no estrangeiro?não\n",
            "O cliente faz compras internacionais?sim\n",
            "O cliente usa cartão de crédito em viagens internacionais?sim\n",
            "\n",
            "---Resultado do Agente 1---\n",
            "\n"
          ]
        },
        {
          "output_type": "display_data",
          "data": {
            "text/plain": [
              "<IPython.core.display.Markdown object>"
            ],
            "text/markdown": "> Com base nas suas respostas, preparei algumas ofertas de produtos bancários que podem ser do seu interesse:\n> \n> *   **Financiamento Imobiliário:** Como você mencionou que tem casa própria, um financiamento imobiliário pode ser interessante para investir em reformas, ampliações ou até mesmo adquirir um novo imóvel para investimento.\n> \n> *   **Consórcio de Veículos:** Já que você não possui carro próprio, um consórcio de veículos pode ser uma ótima opção para planejar a compra do seu próximo carro de forma parcelada e sem juros.\n> \n> *   **Seguro de Vida:** Por ter esposa e filhos, um seguro de vida pode garantir a segurança financeira da sua família em caso de imprevistos.\n> \n> *   **Plano Odontológico:** Para complementar seus cuidados com a saúde, um plano odontológico pode oferecer acesso a diversos tratamentos e consultas a preços acessíveis.\n> \n> *   **Portabilidade de Crédito:** Se você possui empréstimos em outro banco, a portabilidade de crédito pode trazer taxas de juros mais vantajosas e condições de pagamento melhores.\n> \n> *   **Investimentos Mais Rentáveis:** Já que você possui investimentos em outros bancos, podemos analisar juntos opções de investimentos mais rentáveis e adequadas ao seu perfil de risco.\n> \n> *   **Cartões de Crédito com Mais Vantagens:** Se você já utiliza cartões de crédito de outros bancos, podemos apresentar opções com mais vantagens, como programas de recompensas, cashback e benefícios exclusivos.\n> \n> *   **Portabilidade de Plano de Previdência:** Por ter um plano de previdência privada em outro banco, a portabilidade pode trazer benefícios como taxas menores e melhor rentabilidade.\n> \n> *   **Planos de Capitalização:** Para quem gosta de apostas em loterias, os planos de capitalização podem ser uma alternativa interessante para guardar dinheiro e concorrer a prêmios.\n> \n> *   **Câmbio:** Como você realiza compras internacionais, podemos oferecer serviços de câmbio com taxas competitivas e diversas opções de moedas estrangeiras.\n> \n> *   **Travel Cards:** Por usar cartão em viagens internacionais, os travel cards podem te ajudar a economizar e ter mais segurança durante suas viagens, com taxas de câmbio fixas e proteção contra perdas e roubos.\n> \n> Para entender melhor suas necessidades e apresentar as melhores opções, podemos agendar uma conversa?\n> \n> \n> Com base nas informações que você forneceu e nas ofertas de produtos bancários disponíveis, elaborei algumas recomendações adicionais que podem otimizar ainda mais a sua situação financeira:\n> \n> *   **Financiamento Imobiliário:** Avalie as opções de financiamento imobiliário da Caixa Econômica Federal, que frequentemente oferece as taxas mais baixas e programas habitacionais acessíveis. Outros bancos como o Bradesco e Itaú Unibanco também podem ser considerados.\n> \n> *   **Consórcio de Veículos:** Ao optar por um consórcio, lembre-se de que a contemplação pode ocorrer por sorteio ou lance. Se tiver pressa para adquirir o veículo, planeje oferecer lances para aumentar suas chances de ser contemplado mais rapidamente.\n> \n> *   **Seguro de Vida:** Compare diferentes opções de seguro de vida para encontrar a cobertura mais adequada às necessidades da sua família. Verifique se o seguro cobre eventos como falecimento, invalidez por acidente ou doença, e se oferece assistência funeral.\n> \n> *   **Plano Odontológico:** Pesquise planos odontológicos que ofereçam uma ampla rede de dentistas credenciados e cobertura para os procedimentos que você e sua família mais utilizam, como consultas, limpezas, radiografias e tratamentos de canal.\n> \n> *   **Portabilidade de Crédito:** Antes de solicitar a portabilidade, compare as taxas de juros e condições de pagamento oferecidas por diferentes bancos para garantir que a transferência seja realmente vantajosa.\n> \n> *   **Investimentos Mais Rentáveis:** Consulte um especialista em investimentos para identificar as opções mais adequadas ao seu perfil de risco e objetivos financeiros. Diversifique seus investimentos para reduzir os riscos e aumentar as chances de obter bons resultados.\n> \n> *   **Cartões de Crédito com Mais Vantagens:** Avalie os programas de recompensas, cashback e benefícios exclusivos oferecidos por diferentes cartões de crédito para escolher aquele que melhor se adapta aos seus hábitos de consumo.\n> \n> *   **Portabilidade de Plano de Previdência:** Analise as taxas de administração, rentabilidade e opções de investimento oferecidas por diferentes planos de previdência para verificar se a portabilidade pode trazer benefícios significativos.\n> \n> *   **Planos de Capitalização:** Entenda como funcionam os planos de capitalização e avalie se eles são adequados aos seus objetivos financeiros. Lembre-se de que a rentabilidade desses planos costuma ser baixa e que parte do valor pago é destinada ao custeio dos sorteios.\n> \n> *   **Câmbio:** Compare as taxas de câmbio oferecidas por diferentes instituições financeiras e casas de câmbio para garantir que você está obtendo o melhor valor ao comprar ou vender moedas estrangeiras.\n> \n> *   **Travel Cards:** Verifique as taxas de câmbio, tarifas e benefícios oferecidos por diferentes travel cards para escolher aquele que melhor se adapta às suas necessidades e orçamento de viagem.\n> \n> Se precisar de mais informações sobre algum desses produtos ou serviços, ou se tiver alguma dúvida, estou à disposição para ajudar!\n"
          },
          "metadata": {}
        },
        {
          "output_type": "stream",
          "name": "stdout",
          "text": [
            "-----------------------------------------------------\n",
            "\n",
            "---Resultado do Agente 2---\n",
            "\n"
          ]
        },
        {
          "output_type": "display_data",
          "data": {
            "text/plain": [
              "<IPython.core.display.Markdown object>"
            ],
            "text/markdown": "> Perfeito! Aqui estão alguns cards informativos sobre os produtos bancários mencionados, elaborados para auxiliar o atendente bancário:\n> \n> **Card 1: Financiamento Imobiliário**\n> \n> *   **O que é:** Crédito para você investir em reformas, ampliações ou adquirir um novo imóvel (inclusive para investimento!).\n> *   **Planos de Pagamento:** Diversas opções de parcelamento, com as menores taxas do mercado e programas habitacionais acessíveis.\n> *   **Como Adquirir:** Simule e contrate pelo app do banco ou agende um horário com seu gerente.\n> *   **Dica:** A Caixa Econômica Federal frequentemente oferece as taxas mais competitivas!\n> \n> **Card 2: Consórcio de Veículos**\n> \n> *   **O que é:** Planeje a compra do seu carro novo de forma parcelada e sem juros.\n> *   **Benefícios:** Flexibilidade para usar seu crédito, poder de compra à vista e possibilidade de ser contemplado por sorteio ou lance.\n> *   **Como Adquirir:** Simule e contrate pelo app do banco ou agende um horário com seu gerente.\n> *   **Dica:** Se tiver pressa, planeje lances para aumentar suas chances de contemplação!\n> \n> **Card 3: Seguro de Vida**\n> \n> *   **O que é:** Proteção financeira para sua família em caso de imprevistos.\n> *   **Coberturas:** Falecimento, invalidez por acidente ou doença, assistência funeral e mais.\n> *   **Como Adquirir:** Simule e contrate pelo app do banco ou agende um horário com seu gerente.\n> *   **Dica:** Compare diferentes opções para encontrar a cobertura ideal para as necessidades da sua família!\n> \n> **Card 4: Plano Odontológico**\n> \n> *   **O que é:** Acesso a diversos tratamentos e consultas a preços acessíveis.\n> *   **Coberturas:** Consultas, limpezas, radiografias, tratamentos de canal e mais.\n> *   **Como Adquirir:** Simule e contrate pelo app do banco ou agende um horário com seu gerente.\n> *   **Dica:** Verifique a rede de dentistas credenciados e as coberturas que você e sua família mais utilizam!\n> \n> **Card 5: Portabilidade de Crédito**\n> \n> *   **O que é:** Traga seus empréstimos de outros bancos para cá e consiga taxas de juros mais vantajosas e melhores condições de pagamento.\n> *   **Como Adquirir:** Faça uma simulação pelo app ou fale com seu gerente para analisar as melhores opções.\n> *   **Dica:** Compare as taxas e condições de pagamento antes de solicitar a portabilidade!\n> \n> **Card 6: Investimentos Mais Rentáveis**\n> \n> *   **O que é:** Encontre opções de investimentos mais rentáveis e adequadas ao seu perfil de risco.\n> *   **Benefícios:** Diversificação, potencialização de ganhos e segurança para o seu futuro.\n> *   **Como Adquirir:** Converse com seu gerente para uma análise personalizada ou explore as opções no app do banco.\n> *   **Dica:** Consulte um especialista para identificar as opções mais adequadas aos seus objetivos financeiros!\n> \n> **Card 7: Cartões de Crédito com Mais Vantagens**\n> \n> *   **O que é:** Cartões com programas de recompensas, cashback, benefícios exclusivos e muito mais!\n> *   **Como Adquirir:** Compare as opções no app do banco ou fale com seu gerente para encontrar o cartão ideal para você.\n> *   **Dica:** Avalie os programas de recompensas e benefícios que melhor se adaptam aos seus hábitos de consumo!\n> \n> **Card 8: Portabilidade de Plano de Previdência**\n> \n> *   **O que é:** Traga seu plano de previdência privada de outro banco e aproveite taxas menores e melhor rentabilidade.\n> *   **Como Adquirir:** Converse com seu gerente para analisar as opções e simular os benefícios da portabilidade.\n> *   **Dica:** Analise as taxas de administração, rentabilidade e opções de investimento antes de decidir!\n> \n> **Card 9: Planos de Capitalização**\n> \n> *   **O que é:** Guarde dinheiro e concorra a prêmios!\n> *   **Como Adquirir:** Simule e contrate pelo app do banco ou agende um horário com seu gerente.\n> *   **Dica:** Entenda como funcionam os planos e avalie se eles são adequados aos seus objetivos financeiros. Lembre-se que a rentabilidade costuma ser baixa.\n> \n> **Card 10: Câmbio**\n> \n> *   **O que é:** Serviços de câmbio com taxas competitivas e diversas opções de moedas estrangeiras.\n> *   **Como Adquirir:** Consulte as taxas e realize suas operações de câmbio pelo app do banco ou em uma agência.\n> *   **Dica:** Compare as taxas de diferentes instituições para garantir o melhor valor!\n> \n> **Card 11: Travel Cards**\n> \n> *   **O que é:** Economize e tenha mais segurança em suas viagens internacionais, com taxas de câmbio fixas e proteção contra perdas e roubos.\n> *   **Como Adquirir:** Solicite seu travel card pelo app do banco ou em uma agência.\n> *   **Dica:** Verifique as taxas, tarifas e benefícios oferecidos por diferentes travel cards para escolher o melhor para você!\n> \n"
          },
          "metadata": {}
        },
        {
          "output_type": "stream",
          "name": "stdout",
          "text": [
            "-----------------------------------------------------\n",
            "\n",
            "---Resultado do Agente 3---\n",
            "\n"
          ]
        },
        {
          "output_type": "display_data",
          "data": {
            "text/plain": [
              "<IPython.core.display.Markdown object>"
            ],
            "text/markdown": "> Com base nas respostas do cliente e nos cards de produtos bancários, aqui estão algumas sugestões de frases motivacionais para o atendente bancário, visando oferecer os produtos mais adequados:\n> \n> **1. Consórcio de Veículos:**\n> \n> *   \"Que tal planejar a compra do seu próximo carro sem juros? Com o consórcio, você pode ser sorteado ou dar um lance para acelerar a conquista!\"\n> *   \"Já pensou em trocar de carro sem se endividar com juros? O consórcio é uma maneira inteligente de realizar esse sonho!\"\n> \n> **2. Seguro de Vida:**\n> \n> *   \"Sua família é seu bem mais precioso, certo? Garanta a segurança e o futuro deles com um seguro de vida completo e personalizado.\"\n> *   \"Imprevistos acontecem, mas você pode estar preparado. Com o seguro de vida, sua família estará protegida financeiramente em qualquer situação.\"\n> \n> **3. Plano Odontológico:**\n> \n> *   \"Sorrir é essencial para a felicidade! Com o plano odontológico, você e sua família terão acesso aos melhores tratamentos e cuidados com um preço acessível.\"\n> *   \"Cuidar da saúde bucal é investir na sua qualidade de vida. Com o plano odontológico, você terá acesso a consultas, limpezas e tratamentos sem se preocupar com os custos.\"\n> \n> **4. Portabilidade de Crédito:**\n> \n> *   \"Está pagando juros altos em outros bancos? Traga seus empréstimos para cá e economize dinheiro com taxas menores e condições de pagamento mais vantajosas!\"\n> *   \"Que tal organizar suas finanças e pagar menos juros? Com a portabilidade de crédito, você pode ter uma folga no orçamento e ainda realizar seus sonhos!\"\n> \n> **5. Investimentos Mais Rentáveis:**\n> \n> *   \"Já pensou em fazer seu dinheiro render mais? Invista conosco e conquiste seus objetivos financeiros com segurança e rentabilidade.\"\n> *   \"O futuro te espera! Comece a investir agora e garanta uma aposentadoria tranquila e uma vida financeira estável.\"\n> \n> **6. Cartões de Crédito com Mais Vantagens:**\n> \n> *   \"Aproveite ao máximo suas compras com um cartão cheio de benefícios! Cashback, programas de recompensas, descontos exclusivos... Qual deles combina mais com você?\"\n> *   \"Viaje, compre, divirta-se e ainda ganhe recompensas! Com nossos cartões de crédito, você aproveita a vida ao máximo e ainda tem vantagens exclusivas.\"\n> \n> **7. Portabilidade de Plano de Previdência:**\n> \n> *   \"Está satisfeito com a rentabilidade do seu plano de previdência? Traga-o para cá e veja seu dinheiro render mais com taxas menores e melhores opções de investimento!\"\n> *   \"Planeje o futuro com tranquilidade e segurança! Com a portabilidade do plano de previdência, você garante uma aposentadoria ainda melhor.\"\n> \n> **8. Planos de Capitalização:**\n> \n> *   \"Já pensou em guardar dinheiro e ainda concorrer a prêmios incríveis? Com o plano de capitalização, você realiza seus sonhos e ainda pode ser sorteado!\"\n> *   \"Comece a poupar de forma divertida e ainda tenha a chance de ganhar prêmios! Com o plano de capitalização, você junta dinheiro para o futuro e ainda concorre a sorteios.\"\n> \n> **9. Câmbio:**\n> \n> *   \"Vai viajar para o exterior? Conte com nossos serviços de câmbio para ter as melhores taxas e a segurança que você precisa.\"\n> \n> **10. Travel Cards:**\n> \n> *   \"Viaje com tranquilidade e segurança! Com o travel card, você tem taxas de câmbio fixas, proteção contra perdas e roubos e muito mais.\"\n> *   \"Economize e tenha mais controle dos seus gastos em viagens internacionais com o travel card. A solução ideal para quem ama explorar o mundo!\"\n> \n"
          },
          "metadata": {}
        },
        {
          "output_type": "stream",
          "name": "stdout",
          "text": [
            "-----------------------------------------------------\n"
          ]
        }
      ]
    }
  ]
}